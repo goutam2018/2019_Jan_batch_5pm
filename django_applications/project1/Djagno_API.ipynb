{
 "cells": [
  {
   "cell_type": "code",
   "execution_count": 1,
   "metadata": {},
   "outputs": [],
   "source": [
    "import requests"
   ]
  },
  {
   "cell_type": "code",
   "execution_count": 23,
   "metadata": {},
   "outputs": [],
   "source": [
    "url = \"http://localhost:8000/api/blog/\"\n"
   ]
  },
  {
   "cell_type": "code",
   "execution_count": 24,
   "metadata": {},
   "outputs": [],
   "source": [
    "page = requests.get(url)"
   ]
  },
  {
   "cell_type": "code",
   "execution_count": 25,
   "metadata": {},
   "outputs": [
    {
     "data": {
      "text/plain": [
       "200"
      ]
     },
     "execution_count": 25,
     "metadata": {},
     "output_type": "execute_result"
    }
   ],
   "source": [
    "page.status_code"
   ]
  },
  {
   "cell_type": "code",
   "execution_count": 26,
   "metadata": {},
   "outputs": [
    {
     "data": {
      "text/plain": [
       "b'[{\"title\": \"Django\", \"author\": \"shailen\", \"author_email\": \"shail@gmail.com\", \"topic\": \"technology\", \"content\": \"hello world this is only for fun\"}, {\"title\": \"Django is Easy ?\", \"author\": \"sachin\", \"author_email\": \"sachinyadav3496@gmail.com\", \"topic\": \"Programming\", \"content\": \"The title was the joke or so, are you agree on this ? \\\\r\\\\nI think django is simple but it take a genious to understand it\\'s simplicity.\\\\r\\\\npractise makes a man perfect\"}, {\"title\": \"Django\", \"author\": \"rajat\", \"author_email\": \"rajat@grras.com\", \"topic\": \"python,webdesign\", \"content\": \"Django is very Powerfull Web Frame work of python.\"}]'"
      ]
     },
     "execution_count": 26,
     "metadata": {},
     "output_type": "execute_result"
    }
   ],
   "source": [
    "page.content"
   ]
  },
  {
   "cell_type": "code",
   "execution_count": 27,
   "metadata": {},
   "outputs": [],
   "source": [
    "obj = page.json()"
   ]
  },
  {
   "cell_type": "code",
   "execution_count": 28,
   "metadata": {},
   "outputs": [
    {
     "data": {
      "text/plain": [
       "[{'title': 'Django',\n",
       "  'author': 'shailen',\n",
       "  'author_email': 'shail@gmail.com',\n",
       "  'topic': 'technology',\n",
       "  'content': 'hello world this is only for fun'},\n",
       " {'title': 'Django is Easy ?',\n",
       "  'author': 'sachin',\n",
       "  'author_email': 'sachinyadav3496@gmail.com',\n",
       "  'topic': 'Programming',\n",
       "  'content': \"The title was the joke or so, are you agree on this ? \\r\\nI think django is simple but it take a genious to understand it's simplicity.\\r\\npractise makes a man perfect\"},\n",
       " {'title': 'Django',\n",
       "  'author': 'rajat',\n",
       "  'author_email': 'rajat@grras.com',\n",
       "  'topic': 'python,webdesign',\n",
       "  'content': 'Django is very Powerfull Web Frame work of python.'}]"
      ]
     },
     "execution_count": 28,
     "metadata": {},
     "output_type": "execute_result"
    }
   ],
   "source": [
    "obj"
   ]
  },
  {
   "cell_type": "code",
   "execution_count": 30,
   "metadata": {},
   "outputs": [
    {
     "name": "stdout",
     "output_type": "stream",
     "text": [
      "          title\tDjango\n",
      "         author\tshailen\n",
      "   author_email\tshail@gmail.com\n",
      "          topic\ttechnology\n",
      "        content\thello world this is only for fun\n",
      "\n",
      "\n",
      "\n",
      "          title\tDjango is Easy ?\n",
      "         author\tsachin\n",
      "   author_email\tsachinyadav3496@gmail.com\n",
      "          topic\tProgramming\n",
      "        content\tThe title was the joke or so, are you agree on this ? \r\n",
      "I think django is simple but it take a genious to understand it's simplicity.\r\n",
      "practise makes a man perfect\n",
      "\n",
      "\n",
      "\n",
      "          title\tDjango\n",
      "         author\trajat\n",
      "   author_email\trajat@grras.com\n",
      "          topic\tpython,webdesign\n",
      "        content\tDjango is very Powerfull Web Frame work of python.\n",
      "\n",
      "\n",
      "\n"
     ]
    }
   ],
   "source": [
    "for item in obj:\n",
    "    for key,value in item.items():\n",
    "        print(f\"{key:>15}\\t{value}\")\n",
    "    print(\"\\n\\n\")"
   ]
  },
  {
   "cell_type": "code",
   "execution_count": 1,
   "metadata": {},
   "outputs": [],
   "source": [
    "from django.utils import timezone\n",
    "import django\n",
    "django.setup()"
   ]
  },
  {
   "cell_type": "code",
   "execution_count": 4,
   "metadata": {},
   "outputs": [
    {
     "data": {
      "text/plain": [
       "datetime.date(2019, 4, 19)"
      ]
     },
     "execution_count": 4,
     "metadata": {},
     "output_type": "execute_result"
    }
   ],
   "source": [
    "timezone.now().date()"
   ]
  },
  {
   "cell_type": "code",
   "execution_count": null,
   "metadata": {},
   "outputs": [],
   "source": []
  }
 ],
 "metadata": {
  "kernelspec": {
   "display_name": "Python 3",
   "language": "python",
   "name": "python3"
  },
  "language_info": {
   "codemirror_mode": {
    "name": "ipython",
    "version": 3
   },
   "file_extension": ".py",
   "mimetype": "text/x-python",
   "name": "python",
   "nbconvert_exporter": "python",
   "pygments_lexer": "ipython3",
   "version": "3.7.1"
  }
 },
 "nbformat": 4,
 "nbformat_minor": 2
}
