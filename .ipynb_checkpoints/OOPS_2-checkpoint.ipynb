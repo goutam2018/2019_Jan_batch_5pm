{
 "cells": [
  {
   "cell_type": "markdown",
   "metadata": {},
   "source": [
    "<h1>OOPS</h1>"
   ]
  },
  {
   "cell_type": "code",
   "execution_count": 1,
   "metadata": {},
   "outputs": [],
   "source": [
    "#name,id,emai,ph_no,total_fees,due_fees,course,\n",
    "\n",
    "class Student: \n",
    "    \"\"\"Student Class to take care database of student\"\"\"\n",
    "    total_student = 0\n",
    "    id = 1000\n",
    "    def __init__(self,name,email,ph_no,course,fees,due):\n",
    "        self.id = Student.id + 1\n",
    "        Student.id = Student.id + 1\n",
    "        self.name = name\n",
    "        self.email  = email\n",
    "        self.ph_no = ph_no\n",
    "        self.course = course\n",
    "        self.fees = fees\n",
    "        self.due = due\n",
    "        student.total_student+= 1\n",
    "    def info(self):\n",
    "        print(\"Name : \",self.name)\n",
    "        print(\"Email : \",self.email)\n",
    "        print(\"Phone Number : \",self.ph_no)\n",
    "        print(\"Course : \",self.course)\n",
    "        print(\"Fees : \",self.fees)\n",
    "        print(\"Due : \",self.due)\n",
    "    def __str__(self):\n",
    "        return self.name\n",
    "    \n",
    "    def update_name(self,new_name):\n",
    "        self.name = new_name\n",
    "        print(\"Updated name sucessfully\")\n",
    "    def update_email(self,new_email):\n",
    "        self.email = new_email\n",
    "        print(\"Updated email sucessfully\")\n",
    "    def update_number(self,new_num):\n",
    "        self.ph_no = new_num\n",
    "        print(\"Updated name sucessfully\")\n",
    "    def __del__(self):\n",
    "        student.total_student -= 1\n",
    "        del self"
   ]
  },
  {
   "cell_type": "code",
   "execution_count": null,
   "metadata": {},
   "outputs": [],
   "source": []
  }
 ],
 "metadata": {
  "kernelspec": {
   "display_name": "Python 3",
   "language": "python",
   "name": "python3"
  },
  "language_info": {
   "codemirror_mode": {
    "name": "ipython",
    "version": 3
   },
   "file_extension": ".py",
   "mimetype": "text/x-python",
   "name": "python",
   "nbconvert_exporter": "python",
   "pygments_lexer": "ipython3",
   "version": "3.7.1"
  }
 },
 "nbformat": 4,
 "nbformat_minor": 2
}
