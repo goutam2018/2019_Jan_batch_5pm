{
 "cells": [
  {
   "cell_type": "code",
   "execution_count": 1,
   "metadata": {},
   "outputs": [],
   "source": [
    "class Person : \n",
    "    \"\"\"Hello I am Person Class\"\"\"\n",
    "    def __init__(self,name,color,country):\n",
    "        self.name = name\n",
    "        self.color = color\n",
    "        self.country = country\n",
    "    def learn(self,item):\n",
    "        self.item = item\n",
    "    def die(self):\n",
    "        pass\n",
    "    def run(self):\n",
    "        pass\n",
    "    def think(self):\n",
    "        pass\n",
    "\n",
    "p1 = Person(\"X\",\"Dark\",\"India\")\n",
    "p2 = Person(\"Y\",\"Brown\",\"Pakishtan\")\n",
    "p3 = Person(\"Z\",\"Fare\",\"US\")"
   ]
  },
  {
   "cell_type": "code",
   "execution_count": 2,
   "metadata": {},
   "outputs": [
    {
     "name": "stdout",
     "output_type": "stream",
     "text": [
      "X\n",
      "Y\n",
      "Z\n"
     ]
    }
   ],
   "source": [
    "print(p1.name)\n",
    "print(p2.name)\n",
    "print(p3.name)"
   ]
  },
  {
   "cell_type": "code",
   "execution_count": 3,
   "metadata": {},
   "outputs": [
    {
     "name": "stdout",
     "output_type": "stream",
     "text": [
      "1911107667392\n",
      "1911107667672\n",
      "1911107667616\n"
     ]
    }
   ],
   "source": [
    "print(id(p1))\n",
    "print(id(p2))\n",
    "print(id(p3))"
   ]
  },
  {
   "cell_type": "code",
   "execution_count": 4,
   "metadata": {},
   "outputs": [
    {
     "name": "stdout",
     "output_type": "stream",
     "text": [
      "{'name': 'X', 'color': 'Dark', 'country': 'India'}\n",
      "{'name': 'Y', 'color': 'Brown', 'country': 'Pakishtan'}\n",
      "{'name': 'Z', 'color': 'Fare', 'country': 'US'}\n"
     ]
    }
   ],
   "source": [
    "print(p1.__dict__)\n",
    "print(p2.__dict__)\n",
    "print(p3.__dict__)"
   ]
  },
  {
   "cell_type": "code",
   "execution_count": 5,
   "metadata": {},
   "outputs": [],
   "source": [
    "del p1.country"
   ]
  },
  {
   "cell_type": "code",
   "execution_count": 6,
   "metadata": {},
   "outputs": [
    {
     "name": "stdout",
     "output_type": "stream",
     "text": [
      "{'name': 'X', 'color': 'Dark'}\n",
      "{'name': 'Y', 'color': 'Brown', 'country': 'Pakishtan'}\n",
      "{'name': 'Z', 'color': 'Fare', 'country': 'US'}\n"
     ]
    }
   ],
   "source": [
    "print(p1.__dict__)\n",
    "print(p2.__dict__)\n",
    "print(p3.__dict__)"
   ]
  },
  {
   "cell_type": "code",
   "execution_count": 7,
   "metadata": {},
   "outputs": [],
   "source": [
    "#stack --> LIFO --> Last in First Out\n",
    "class stack : \n",
    "    \"stack implementation in python\"\n",
    "    total_stack = 0 # class variable\n",
    "    def __init__(self):\n",
    "        self.data = [] #object attribute\n",
    "        stack.total_stack  += 1 #class attribute\n",
    "    def push(self,item):\n",
    "        self.data.append(item)\n",
    "        print(f\"{item} Successfully added to stack.\")\n",
    "    def pop(self):\n",
    "        if len(self.data) : \n",
    "            item = self.data.pop() \n",
    "            print(f\"{item} is successfully deleted from stack\")\n",
    "        else : \n",
    "            print(\"UnderFlow Error!! Your stack is empty can not delete item\")\n",
    "    def __str__()"
   ]
  },
  {
   "cell_type": "code",
   "execution_count": 8,
   "metadata": {},
   "outputs": [],
   "source": [
    "s1 = stack()\n",
    "s2 = stack()"
   ]
  },
  {
   "cell_type": "code",
   "execution_count": 10,
   "metadata": {},
   "outputs": [
    {
     "name": "stdout",
     "output_type": "stream",
     "text": [
      "<__main__.stack object at 0x000001BCF6E23EB8>\n"
     ]
    }
   ],
   "source": [
    "print(s1) # s1.__str__"
   ]
  },
  {
   "cell_type": "code",
   "execution_count": 11,
   "metadata": {},
   "outputs": [
    {
     "data": {
      "text/plain": [
       "<__main__.stack at 0x1bcf6e23eb8>"
      ]
     },
     "execution_count": 11,
     "metadata": {},
     "output_type": "execute_result"
    }
   ],
   "source": [
    "s1 # s1.__repr__"
   ]
  },
  {
   "cell_type": "code",
   "execution_count": null,
   "metadata": {},
   "outputs": [],
   "source": []
  }
 ],
 "metadata": {
  "kernelspec": {
   "display_name": "Python 3",
   "language": "python",
   "name": "python3"
  },
  "language_info": {
   "codemirror_mode": {
    "name": "ipython",
    "version": 3
   },
   "file_extension": ".py",
   "mimetype": "text/x-python",
   "name": "python",
   "nbconvert_exporter": "python",
   "pygments_lexer": "ipython3",
   "version": "3.7.1"
  }
 },
 "nbformat": 4,
 "nbformat_minor": 2
}
