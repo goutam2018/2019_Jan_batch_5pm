{
 "cells": [
  {
   "cell_type": "code",
   "execution_count": 2,
   "metadata": {},
   "outputs": [],
   "source": [
    "import sqlite3 as sql\n",
    "#import MySQLdb as sql # python -m pip install mysqlclient\n",
    "# db = sql.connect(host='localhost',port=3306,user='root',password='',database='bank')\n",
    "con = sql.connect(\"bank.db\")\n",
    "cur = con.cursor()\n",
    "cmd = \"create table user(acc_no int primary key,name varchar(100), balance varchar(100), password varchar(100))\"\n",
    "cur.execute(cmd)\n",
    "cmd = \"create table log(msgs varchar(300))\"\n",
    "cur.execute(cmd)\n",
    "cmd = \"insert into user values (1001,'sachin',50000,'redhat')\"\n",
    "cur.execute(cmd)\n",
    "con.commit()\n",
    "cur.close()\n",
    "con.close()"
   ]
  },
  {
   "cell_type": "code",
   "execution_count": 1,
   "metadata": {},
   "outputs": [],
   "source": [
    "class Bank : \n",
    "    def __init__(self,username):\n",
    "        self.username = username\n",
    "    def login(self,username,password): \n",
    "        pass\n",
    "    def signup(self):\n",
    "        pass\n",
    "    def logout(self):\n",
    "        pass\n",
    "    def debit(self,acc_no):\n",
    "        pass\n",
    "    def credit(self,acc_no):\n",
    "        pass\n",
    "    def chk_bal(self,acc_no):\n",
    "        pass\n",
    "    def log(self,msg):\n",
    "        pass\n",
    "    def update(self):\n",
    "        pass"
   ]
  },
  {
   "cell_type": "code",
   "execution_count": null,
   "metadata": {},
   "outputs": [],
   "source": []
  }
 ],
 "metadata": {
  "kernelspec": {
   "display_name": "Python 3",
   "language": "python",
   "name": "python3"
  },
  "language_info": {
   "codemirror_mode": {
    "name": "ipython",
    "version": 3
   },
   "file_extension": ".py",
   "mimetype": "text/x-python",
   "name": "python",
   "nbconvert_exporter": "python",
   "pygments_lexer": "ipython3",
   "version": "3.7.1"
  }
 },
 "nbformat": 4,
 "nbformat_minor": 2
}
