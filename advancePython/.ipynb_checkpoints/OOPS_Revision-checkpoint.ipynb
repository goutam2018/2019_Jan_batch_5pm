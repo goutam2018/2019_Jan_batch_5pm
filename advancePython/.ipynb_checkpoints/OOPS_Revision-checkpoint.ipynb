{
 "cells": [
  {
   "cell_type": "code",
   "execution_count": 22,
   "metadata": {},
   "outputs": [
    {
     "name": "stdout",
     "output_type": "stream",
     "text": [
      "HI I am Person Class\n",
      "will print details of a Person.\n"
     ]
    }
   ],
   "source": [
    "#OOPS \n",
    "# encapsulation --> binding data and data methods \n",
    "# data hiding --> public, private, protected\n",
    "# abstraction --> only showing essential details while hiding background infromation\n",
    "\n",
    "# abstraction = encapsulation + data hiding\n",
    "class Person : \n",
    "    \"\"\"HI I am Person Class\"\"\"\n",
    "    name = \"Human\" # class variable\n",
    "    __color = 'fair' # private variable\n",
    "    def show(self):\n",
    "        \"\"\"will print details of a Person.\"\"\"\n",
    "        print(\"Name --> \",Person.name)\n",
    "        print(\"Color --> \",Person.__color)\n",
    "        \n",
    "print(Person.__doc__)\n",
    "print(Person.show.__doc__)"
   ]
  },
  {
   "cell_type": "code",
   "execution_count": 19,
   "metadata": {},
   "outputs": [],
   "source": [
    "p1  = Person()\n",
    "p2 = Person()"
   ]
  },
  {
   "cell_type": "code",
   "execution_count": 8,
   "metadata": {},
   "outputs": [
    {
     "name": "stdout",
     "output_type": "stream",
     "text": [
      "Name -->  Human\n",
      "Color -->  fair\n"
     ]
    }
   ],
   "source": [
    "p1.show()"
   ]
  },
  {
   "cell_type": "code",
   "execution_count": 9,
   "metadata": {},
   "outputs": [
    {
     "name": "stdout",
     "output_type": "stream",
     "text": [
      "Name -->  Human\n",
      "Color -->  fair\n"
     ]
    }
   ],
   "source": [
    "p2.show()"
   ]
  },
  {
   "cell_type": "code",
   "execution_count": 10,
   "metadata": {},
   "outputs": [
    {
     "data": {
      "text/plain": [
       "'Human'"
      ]
     },
     "execution_count": 10,
     "metadata": {},
     "output_type": "execute_result"
    }
   ],
   "source": [
    "p1.name"
   ]
  },
  {
   "cell_type": "code",
   "execution_count": 11,
   "metadata": {},
   "outputs": [
    {
     "data": {
      "text/plain": [
       "'Human'"
      ]
     },
     "execution_count": 11,
     "metadata": {},
     "output_type": "execute_result"
    }
   ],
   "source": [
    "p2.name"
   ]
  },
  {
   "cell_type": "code",
   "execution_count": 13,
   "metadata": {},
   "outputs": [
    {
     "ename": "AttributeError",
     "evalue": "'Person' object has no attribute '__color'",
     "output_type": "error",
     "traceback": [
      "\u001b[1;31m---------------------------------------------------------------------------\u001b[0m",
      "\u001b[1;31mAttributeError\u001b[0m                            Traceback (most recent call last)",
      "\u001b[1;32m<ipython-input-13-db38b4ab1bb7>\u001b[0m in \u001b[0;36m<module>\u001b[1;34m\u001b[0m\n\u001b[1;32m----> 1\u001b[1;33m \u001b[0mp1\u001b[0m\u001b[1;33m.\u001b[0m\u001b[0m__color\u001b[0m \u001b[1;31m#data hiding\u001b[0m\u001b[1;33m\u001b[0m\u001b[1;33m\u001b[0m\u001b[0m\n\u001b[0m",
      "\u001b[1;31mAttributeError\u001b[0m: 'Person' object has no attribute '__color'"
     ]
    }
   ],
   "source": [
    "p1.__color #data hiding"
   ]
  },
  {
   "cell_type": "code",
   "execution_count": 14,
   "metadata": {},
   "outputs": [
    {
     "data": {
      "text/plain": [
       "['_Person__color',\n",
       " '__class__',\n",
       " '__delattr__',\n",
       " '__dict__',\n",
       " '__dir__',\n",
       " '__doc__',\n",
       " '__eq__',\n",
       " '__format__',\n",
       " '__ge__',\n",
       " '__getattribute__',\n",
       " '__gt__',\n",
       " '__hash__',\n",
       " '__init__',\n",
       " '__init_subclass__',\n",
       " '__le__',\n",
       " '__lt__',\n",
       " '__module__',\n",
       " '__ne__',\n",
       " '__new__',\n",
       " '__reduce__',\n",
       " '__reduce_ex__',\n",
       " '__repr__',\n",
       " '__setattr__',\n",
       " '__sizeof__',\n",
       " '__str__',\n",
       " '__subclasshook__',\n",
       " '__weakref__',\n",
       " 'name',\n",
       " 'show']"
      ]
     },
     "execution_count": 14,
     "metadata": {},
     "output_type": "execute_result"
    }
   ],
   "source": [
    "dir(Person)"
   ]
  },
  {
   "cell_type": "code",
   "execution_count": 23,
   "metadata": {},
   "outputs": [
    {
     "name": "stdout",
     "output_type": "stream",
     "text": [
      "<__main__.Person object at 0x0000027DBB12FA58>\n"
     ]
    },
    {
     "data": {
      "text/plain": [
       "'fair'"
      ]
     },
     "execution_count": 23,
     "metadata": {},
     "output_type": "execute_result"
    }
   ],
   "source": [
    "print(p1) #standard output\n",
    "p1._Person__color # name mangling\n"
   ]
  },
  {
   "cell_type": "code",
   "execution_count": 24,
   "metadata": {},
   "outputs": [
    {
     "data": {
      "text/plain": [
       "<__main__.Person at 0x27dbb12fa58>"
      ]
     },
     "execution_count": 24,
     "metadata": {},
     "output_type": "execute_result"
    }
   ],
   "source": [
    "p1 #shell output"
   ]
  },
  {
   "cell_type": "code",
   "execution_count": 25,
   "metadata": {},
   "outputs": [],
   "source": [
    "#constructor --> __new__ (memory) --> __init__ (will set default value in object)\n",
    "# constuctors are called automatically whereever an object is created (instatitaion)\n",
    "#destructor --> free memory by deleting self(object) __del__ \n",
    "#print object on standard output --> print --> __str__ --> should return string\n",
    "#print object on shell --> __repr__  --> should return string"
   ]
  },
  {
   "cell_type": "code",
   "execution_count": 26,
   "metadata": {},
   "outputs": [],
   "source": [
    "class Person : \n",
    "    \"\"\"Documentation String of Person\n",
    "        run(self) --> a method that will define how a Person will run.\n",
    "    \"\"\"\n",
    "    count = 0 #class variable to count total objects\n",
    "    def __init__(self,name,color,country): #constructor\n",
    "        Person.count += 1 #incrementaing share(class) space variable count\n",
    "        self.name = name #name,color,country are in local scope\n",
    "        self.color = color #self.name,self.color,self.country are in \n",
    "        self.country = country # object space\n",
    "    \n",
    "    def run(self):\n",
    "        \"\"\"run method documentation\"\"\"\n",
    "        pass\n",
    "    def cry(self): \n",
    "        pass\n",
    "    def think(self):\n",
    "        pass\n",
    "    def learn(self):\n",
    "        pass\n",
    "ram = Person('ram','fair','india')\n",
    "krishna = Person(name='krishna',color='dark',country='india')"
   ]
  },
  {
   "cell_type": "code",
   "execution_count": 29,
   "metadata": {},
   "outputs": [
    {
     "name": "stdout",
     "output_type": "stream",
     "text": [
      "<__main__.Person object at 0x0000027DBB147A90>\n"
     ]
    }
   ],
   "source": [
    "print(ram) # __str__"
   ]
  },
  {
   "cell_type": "code",
   "execution_count": 31,
   "metadata": {},
   "outputs": [
    {
     "data": {
      "text/plain": [
       "<__main__.Person at 0x27dbb147a90>"
      ]
     },
     "execution_count": 31,
     "metadata": {},
     "output_type": "execute_result"
    }
   ],
   "source": [
    "ram # __repr__"
   ]
  },
  {
   "cell_type": "code",
   "execution_count": 32,
   "metadata": {},
   "outputs": [
    {
     "data": {
      "text/plain": [
       "<__main__.Person at 0x27dbb147ac8>"
      ]
     },
     "execution_count": 32,
     "metadata": {},
     "output_type": "execute_result"
    }
   ],
   "source": [
    "krishna"
   ]
  },
  {
   "cell_type": "code",
   "execution_count": 33,
   "metadata": {},
   "outputs": [
    {
     "name": "stdout",
     "output_type": "stream",
     "text": [
      "<__main__.Person object at 0x0000027DBB147AC8>\n"
     ]
    }
   ],
   "source": [
    "print(krishna)"
   ]
  },
  {
   "cell_type": "code",
   "execution_count": 34,
   "metadata": {},
   "outputs": [],
   "source": [
    "class Person : \n",
    "    \"\"\"Documentation String of Person\n",
    "        run(self) --> a method that will define how a Person will run.\n",
    "    \"\"\"\n",
    "    count = 0 #class variable to count total objects\n",
    "    def __init__(self,name,color,country): #constructor\n",
    "        Person.count += 1 #incrementaing share(class) space variable count\n",
    "        self.name = name #name,color,country are in local scope\n",
    "        self.color = color #self.name,self.color,self.country are in \n",
    "        self.country = country # object space\n",
    "    \n",
    "    def __str__(self):\n",
    "        details = f\"\"\"\n",
    "        Name = {self.name}\n",
    "        Color = {self.color}\n",
    "        Country = {self.country}\n",
    "        \"\"\"\n",
    "        return details\n",
    "    def run(self):\n",
    "        \"\"\"run method documentation\"\"\"\n",
    "        pass\n",
    "    def cry(self): \n",
    "        pass\n",
    "    def think(self):\n",
    "        pass\n",
    "    def learn(self):\n",
    "        pass\n",
    "ram = Person('ram','fair','india')\n",
    "krishna = Person(name='krishna',color='dark',country='india')"
   ]
  },
  {
   "cell_type": "code",
   "execution_count": 35,
   "metadata": {},
   "outputs": [
    {
     "name": "stdout",
     "output_type": "stream",
     "text": [
      "\n",
      "        Name = ram\n",
      "        Color = fair\n",
      "        Country = india\n",
      "        \n"
     ]
    }
   ],
   "source": [
    "print(ram)"
   ]
  },
  {
   "cell_type": "code",
   "execution_count": 36,
   "metadata": {},
   "outputs": [
    {
     "name": "stdout",
     "output_type": "stream",
     "text": [
      "\n",
      "        Name = krishna\n",
      "        Color = dark\n",
      "        Country = india\n",
      "        \n"
     ]
    }
   ],
   "source": [
    "print(krishna)"
   ]
  },
  {
   "cell_type": "code",
   "execution_count": 37,
   "metadata": {},
   "outputs": [
    {
     "data": {
      "text/plain": [
       "<__main__.Person at 0x27dbb4ab898>"
      ]
     },
     "execution_count": 37,
     "metadata": {},
     "output_type": "execute_result"
    }
   ],
   "source": [
    "ram #__repr__"
   ]
  },
  {
   "cell_type": "code",
   "execution_count": 38,
   "metadata": {},
   "outputs": [
    {
     "data": {
      "text/plain": [
       "<__main__.Person at 0x27dbb4ab550>"
      ]
     },
     "execution_count": 38,
     "metadata": {},
     "output_type": "execute_result"
    }
   ],
   "source": [
    "krishna"
   ]
  },
  {
   "cell_type": "code",
   "execution_count": null,
   "metadata": {},
   "outputs": [],
   "source": []
  }
 ],
 "metadata": {
  "kernelspec": {
   "display_name": "Python 3",
   "language": "python",
   "name": "python3"
  },
  "language_info": {
   "codemirror_mode": {
    "name": "ipython",
    "version": 3
   },
   "file_extension": ".py",
   "mimetype": "text/x-python",
   "name": "python",
   "nbconvert_exporter": "python",
   "pygments_lexer": "ipython3",
   "version": "3.7.1"
  }
 },
 "nbformat": 4,
 "nbformat_minor": 2
}
