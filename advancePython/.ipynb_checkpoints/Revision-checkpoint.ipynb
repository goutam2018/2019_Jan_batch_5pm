{
 "cells": [
  {
   "cell_type": "markdown",
   "metadata": {},
   "source": [
    "WEB Development \n",
    "\n",
    "--> Full Stack Web Developer\n",
    "\n",
    "\n",
    "    --> Front End Designer\n",
    "\n",
    "    HTML --> Hyper Text Markup Language\n",
    "    CSS --> Cascade Style Sheet\n",
    "    JS --> Java Script\n",
    "    Angular JS --> Graphics\n",
    "    React JS --> Graphics\n",
    "    TypeScript --> classes (OOPS)\n",
    "\n",
    "    --> Back End Development (Gernal Purpose Language)\n",
    "\n",
    "    NodeJs\n",
    "    Python --> Django, Flask, Web2py\n",
    "    JAVA\n",
    "    Ruby on Rails\n",
    "    .NET\n",
    "    PHP\n",
    "\n",
    "    --> Data Base Knowledge \n",
    "\n",
    "    MongoDB --> No sql database --> JSON\n",
    "    PosgreSQL --> \n",
    "    MYSQL --> orcle, microsoft, mariadb\n",
    "    Neo4j --> Graph Database\n"
   ]
  },
  {
   "cell_type": "markdown",
   "metadata": {},
   "source": [
    "<!-- comment\n",
    "multiline --> \n",
    "\n",
    "<h1> Hello World </h1>\n",
    "<h2> Hi World </h2>\n",
    "<h3> Hello World </h3>\n",
    "<h4> Hi World </h4>\n",
    "<h5> Hello World </h5>\n",
    "<h6> Hi World </h6>\n"
   ]
  },
  {
   "cell_type": "markdown",
   "metadata": {},
   "source": [
    "<p> Hi this is a Para Graph \n",
    "    you can there is no line breaks in \n",
    "    html\n",
    "    it will in single line. </p>"
   ]
  },
  {
   "cell_type": "markdown",
   "metadata": {},
   "source": [
    "<pre> Hi this is a Para Graph \n",
    "    you can there is no line breaks in \n",
    "    html\n",
    "    it will in single line. </pre>"
   ]
  },
  {
   "cell_type": "markdown",
   "metadata": {},
   "source": [
    "<ol>\n",
    "    <li>item1</li>\n",
    "    <li>item2 <ol> <li>one</li><li>two</li></ol></li>\n",
    "    <li>item3</li>\n",
    "    <li>item4</li>\n",
    "    <li>item5</li>\n",
    "</ol>"
   ]
  },
  {
   "cell_type": "markdown",
   "metadata": {},
   "source": [
    "<ul>\n",
    "    <li>item1</li>\n",
    "    <li>item2 <ol> <li>one</li><li>two</li></ol></li>\n",
    "    <li>item3</li>\n",
    "    <li>item4</li>\n",
    "    <li>item5</li>\n",
    "</ul>"
   ]
  },
  {
   "cell_type": "markdown",
   "metadata": {},
   "source": [
    "<table>\n",
    "    <tr>    \n",
    "            <td>id</td>\n",
    "            <td>name</td>\n",
    "            <td>course</td>\n",
    "    </tr>\n",
    "    <tr>   \n",
    "            <td>1</td>\n",
    "            <td>sachin</td>\n",
    "            <td>python</td>\n",
    "    </tr>\n",
    "    <tr>   \n",
    "            <td>1</td>\n",
    "            <td>sachin</td>\n",
    "            <td>python</td>\n",
    "    </tr>\n",
    "    <tr>   \n",
    "            <td>1</td>\n",
    "            <td>sachin</td>\n",
    "            <td>python</td>\n",
    "    </tr>\n",
    "    <tr>   \n",
    "            <td>1</td>\n",
    "            <td>sachin</td>\n",
    "            <td>python</td>\n",
    "    </tr>\n",
    "    <tr>   \n",
    "            <td>1</td>\n",
    "            <td>sachin</td>\n",
    "            <td>python</td>\n",
    "    </tr>\n",
    "</table>"
   ]
  },
  {
   "cell_type": "code",
   "execution_count": null,
   "metadata": {},
   "outputs": [],
   "source": []
  }
 ],
 "metadata": {
  "kernelspec": {
   "display_name": "Python 3",
   "language": "python",
   "name": "python3"
  },
  "language_info": {
   "codemirror_mode": {
    "name": "ipython",
    "version": 3
   },
   "file_extension": ".py",
   "mimetype": "text/x-python",
   "name": "python",
   "nbconvert_exporter": "python",
   "pygments_lexer": "ipython3",
   "version": "3.7.1"
  }
 },
 "nbformat": 4,
 "nbformat_minor": 2
}
