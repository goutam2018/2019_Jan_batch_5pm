{
 "cells": [
  {
   "cell_type": "code",
   "execution_count": 1,
   "metadata": {},
   "outputs": [],
   "source": [
    "import socket"
   ]
  },
  {
   "cell_type": "code",
   "execution_count": 12,
   "metadata": {},
   "outputs": [],
   "source": [
    "html = \"\"\"\n",
    "<!Doctype html>\n",
    "<html>\n",
    "<body>\n",
    "<h1 style='color:red'>Welcome to My Personal Web Server</h1>\n",
    "<h2>I am Controller</h2>\n",
    "<h3>Welcome to Web Page Powered By Python</h3>\n",
    "</body>\n",
    "</html>\n",
    "\"\"\"\n",
    "\n",
    "\n",
    "resp = \"\"\"\"HTTP/1.1 200 OK\n",
    "Content-Length: {len(html)}\n",
    "Content-Type: text/html\n",
    "Connection: Closed\n",
    "\n",
    "{html}\"\"\""
   ]
  },
  {
   "cell_type": "code",
   "execution_count": 14,
   "metadata": {},
   "outputs": [
    {
     "name": "stdout",
     "output_type": "stream",
     "text": [
      "Got a connection from  ('127.0.0.1', 51140)\n",
      "Client Request \n",
      "GET /data/myfile.html HTTP/1.1\r\n",
      "Host: localhost:12345\r\n",
      "Connection: keep-alive\r\n",
      "Cache-Control: max-age=0\r\n",
      "Upgrade-Insecure-Requests: 1\r\n",
      "User-Agent: Mozilla/5.0 (Windows NT 10.0; Win64; x64) AppleWebKit/537.36 (KHTML, like Gecko) Chrome/73.0.3683.86 Safari/537.36\r\n",
      "Accept: text/html,application/xhtml+xml,application/xml;q=0.9,image/webp,image/apng,*/*;q=0.8,application/signed-exchange;v=b3\r\n",
      "Accept-Encoding: gzip, deflate, br\r\n",
      "Accept-Language: en-GB,en-US;q=0.9,en;q=0.8\r\n",
      "Cookie: _xsrf=2|1884b4e3|577e81a5ad9bf1806507754c41ae8d47|1552891192; username-localhost-8889=\"2|1:0|10:1553192549|23:username-localhost-8889|44:ZGRiNWMyYmIyYjgyNGIyM2E2NDc5NDc1YTg2YzBiYmQ=|5a87bbe180bffed4d50aade986820b6bf2f12327d4d50bd1376da9f12c845e08\"; session=eyJxdWVzIjo0OX0.XJXRmg.pJ7dJ5FwZF8VzCIPM5nCcCYVpJQ; username-localhost-8888=\"2|1:0|10:1553515291|23:username-localhost-8888|44:ZmQ5NTY5NjZlZmJiNDY0ZmIzNWZhNTYwMWNkYWUxMmM=|f46b34d7f53e6b976d52b319e84b9ede9ef11b95a6a50a983c6ea1761f1c050c\"\r\n",
      "\r\n",
      "\n"
     ]
    }
   ],
   "source": [
    "import socket\n",
    "server = socket.socket()\n",
    "server.bind(('localhost',12345))\n",
    "server.listen()\n",
    "client,address = server.accept()\n",
    "print('Got a connection from ',address)\n",
    "print(\"Client Request \")\n",
    "request = client.recv(1024).decode()\n",
    "print(request)\n",
    "client.send(html.encode())\n",
    "\n",
    "client.close()\n",
    "server.close()"
   ]
  },
  {
   "cell_type": "code",
   "execution_count": null,
   "metadata": {},
   "outputs": [],
   "source": []
  }
 ],
 "metadata": {
  "kernelspec": {
   "display_name": "Python 3",
   "language": "python",
   "name": "python3"
  },
  "language_info": {
   "codemirror_mode": {
    "name": "ipython",
    "version": 3
   },
   "file_extension": ".py",
   "mimetype": "text/x-python",
   "name": "python",
   "nbconvert_exporter": "python",
   "pygments_lexer": "ipython3",
   "version": "3.7.1"
  }
 },
 "nbformat": 4,
 "nbformat_minor": 2
}
