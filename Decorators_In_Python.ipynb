{
 "cells": [
  {
   "cell_type": "code",
   "execution_count": 2,
   "metadata": {},
   "outputs": [],
   "source": [
    "def hello(*args): #var-length arguments\n",
    "    print(\"Type of args --> \",type(args))\n",
    "    print(\"Value of args --> \",args)\n",
    "    "
   ]
  },
  {
   "cell_type": "code",
   "execution_count": 3,
   "metadata": {},
   "outputs": [
    {
     "name": "stdout",
     "output_type": "stream",
     "text": [
      "Type of args -->  <class 'tuple'>\n",
      "Value of args -->  ()\n"
     ]
    }
   ],
   "source": [
    "hello()"
   ]
  },
  {
   "cell_type": "code",
   "execution_count": 15,
   "metadata": {},
   "outputs": [
    {
     "name": "stdout",
     "output_type": "stream",
     "text": [
      "Type of args -->  <class 'tuple'>\n",
      "Value of args -->  (1, 2, 3, 4, 5)\n"
     ]
    }
   ],
   "source": [
    "hello(1,2,3,4,5)"
   ]
  },
  {
   "cell_type": "code",
   "execution_count": 5,
   "metadata": {},
   "outputs": [
    {
     "data": {
      "text/plain": [
       "15"
      ]
     },
     "execution_count": 5,
     "metadata": {},
     "output_type": "execute_result"
    }
   ],
   "source": [
    "sum([1,2,3,4,5])"
   ]
  },
  {
   "cell_type": "code",
   "execution_count": 6,
   "metadata": {},
   "outputs": [
    {
     "ename": "TypeError",
     "evalue": "sum expected at most 2 arguments, got 6",
     "output_type": "error",
     "traceback": [
      "\u001b[1;31m---------------------------------------------------------------------------\u001b[0m",
      "\u001b[1;31mTypeError\u001b[0m                                 Traceback (most recent call last)",
      "\u001b[1;32m<ipython-input-6-5f8d8012427f>\u001b[0m in \u001b[0;36m<module>\u001b[1;34m\u001b[0m\n\u001b[1;32m----> 1\u001b[1;33m \u001b[0msum\u001b[0m\u001b[1;33m(\u001b[0m\u001b[1;36m1\u001b[0m\u001b[1;33m,\u001b[0m\u001b[1;36m2\u001b[0m\u001b[1;33m,\u001b[0m\u001b[1;36m3\u001b[0m\u001b[1;33m,\u001b[0m\u001b[1;36m4\u001b[0m\u001b[1;33m,\u001b[0m\u001b[1;36m5\u001b[0m\u001b[1;33m,\u001b[0m\u001b[1;36m6\u001b[0m\u001b[1;33m)\u001b[0m\u001b[1;33m\u001b[0m\u001b[1;33m\u001b[0m\u001b[0m\n\u001b[0m",
      "\u001b[1;31mTypeError\u001b[0m: sum expected at most 2 arguments, got 6"
     ]
    }
   ],
   "source": [
    "sum(1,2,3,4,5,6)"
   ]
  },
  {
   "cell_type": "code",
   "execution_count": 7,
   "metadata": {},
   "outputs": [
    {
     "data": {
      "text/plain": [
       "0"
      ]
     },
     "execution_count": 7,
     "metadata": {},
     "output_type": "execute_result"
    }
   ],
   "source": [
    "def mysum(*args):\n",
    "    return sum(args)\n",
    "\n",
    "mysum()"
   ]
  },
  {
   "cell_type": "code",
   "execution_count": 8,
   "metadata": {},
   "outputs": [
    {
     "data": {
      "text/plain": [
       "81"
      ]
     },
     "execution_count": 8,
     "metadata": {},
     "output_type": "execute_result"
    }
   ],
   "source": [
    "mysum(1,22,3,4,45,6)"
   ]
  },
  {
   "cell_type": "code",
   "execution_count": 9,
   "metadata": {},
   "outputs": [
    {
     "data": {
      "text/plain": [
       "55"
      ]
     },
     "execution_count": 9,
     "metadata": {},
     "output_type": "execute_result"
    }
   ],
   "source": [
    "mysum(1,2,3,4,5,6,7,8,9,10)"
   ]
  },
  {
   "cell_type": "code",
   "execution_count": 10,
   "metadata": {},
   "outputs": [],
   "source": [
    "def squre(*args):\n",
    "    \n",
    "    return [ var**2 for var in args  ]"
   ]
  },
  {
   "cell_type": "code",
   "execution_count": 11,
   "metadata": {},
   "outputs": [],
   "source": [
    "x = squre(1,2,3)"
   ]
  },
  {
   "cell_type": "code",
   "execution_count": 12,
   "metadata": {},
   "outputs": [
    {
     "data": {
      "text/plain": [
       "[1, 4, 9]"
      ]
     },
     "execution_count": 12,
     "metadata": {},
     "output_type": "execute_result"
    }
   ],
   "source": [
    "x"
   ]
  },
  {
   "cell_type": "code",
   "execution_count": 13,
   "metadata": {},
   "outputs": [],
   "source": [
    "x = [ var for var in range(1,11)]"
   ]
  },
  {
   "cell_type": "code",
   "execution_count": 14,
   "metadata": {},
   "outputs": [
    {
     "data": {
      "text/plain": [
       "[1, 2, 3, 4, 5, 6, 7, 8, 9, 10]"
      ]
     },
     "execution_count": 14,
     "metadata": {},
     "output_type": "execute_result"
    }
   ],
   "source": [
    "x"
   ]
  },
  {
   "cell_type": "code",
   "execution_count": 16,
   "metadata": {},
   "outputs": [
    {
     "ename": "TypeError",
     "evalue": "unsupported operand type(s) for ** or pow(): 'list' and 'int'",
     "output_type": "error",
     "traceback": [
      "\u001b[1;31m---------------------------------------------------------------------------\u001b[0m",
      "\u001b[1;31mTypeError\u001b[0m                                 Traceback (most recent call last)",
      "\u001b[1;32m<ipython-input-16-562624120cc9>\u001b[0m in \u001b[0;36m<module>\u001b[1;34m\u001b[0m\n\u001b[0;32m      3\u001b[0m     \u001b[1;32mreturn\u001b[0m \u001b[1;33m[\u001b[0m \u001b[0mvar\u001b[0m\u001b[1;33m**\u001b[0m\u001b[1;36m2\u001b[0m \u001b[1;32mfor\u001b[0m \u001b[0mvar\u001b[0m \u001b[1;32min\u001b[0m \u001b[0margs\u001b[0m  \u001b[1;33m]\u001b[0m\u001b[1;33m\u001b[0m\u001b[1;33m\u001b[0m\u001b[0m\n\u001b[0;32m      4\u001b[0m \u001b[0mx\u001b[0m \u001b[1;33m=\u001b[0m \u001b[1;33m[\u001b[0m \u001b[0mvar\u001b[0m \u001b[1;32mfor\u001b[0m \u001b[0mvar\u001b[0m \u001b[1;32min\u001b[0m \u001b[0mrange\u001b[0m\u001b[1;33m(\u001b[0m\u001b[1;36m1\u001b[0m\u001b[1;33m,\u001b[0m\u001b[1;36m11\u001b[0m\u001b[1;33m)\u001b[0m\u001b[1;33m]\u001b[0m\u001b[1;33m\u001b[0m\u001b[1;33m\u001b[0m\u001b[0m\n\u001b[1;32m----> 5\u001b[1;33m \u001b[0my\u001b[0m \u001b[1;33m=\u001b[0m \u001b[0msqure\u001b[0m\u001b[1;33m(\u001b[0m\u001b[0mx\u001b[0m\u001b[1;33m)\u001b[0m\u001b[1;33m\u001b[0m\u001b[1;33m\u001b[0m\u001b[0m\n\u001b[0m\u001b[0;32m      6\u001b[0m \u001b[0mprint\u001b[0m\u001b[1;33m(\u001b[0m\u001b[1;34m\"Number --> \"\u001b[0m\u001b[1;33m,\u001b[0m\u001b[0mx\u001b[0m\u001b[1;33m)\u001b[0m\u001b[1;33m\u001b[0m\u001b[1;33m\u001b[0m\u001b[0m\n\u001b[0;32m      7\u001b[0m \u001b[0mprint\u001b[0m\u001b[1;33m(\u001b[0m\u001b[1;34m\"Squre --> \"\u001b[0m\u001b[1;33m,\u001b[0m\u001b[0my\u001b[0m\u001b[1;33m)\u001b[0m\u001b[1;33m\u001b[0m\u001b[1;33m\u001b[0m\u001b[0m\n",
      "\u001b[1;32m<ipython-input-16-562624120cc9>\u001b[0m in \u001b[0;36msqure\u001b[1;34m(*args)\u001b[0m\n\u001b[0;32m      1\u001b[0m \u001b[1;32mdef\u001b[0m \u001b[0msqure\u001b[0m\u001b[1;33m(\u001b[0m\u001b[1;33m*\u001b[0m\u001b[0margs\u001b[0m\u001b[1;33m)\u001b[0m\u001b[1;33m:\u001b[0m\u001b[1;33m\u001b[0m\u001b[1;33m\u001b[0m\u001b[0m\n\u001b[0;32m      2\u001b[0m \u001b[1;33m\u001b[0m\u001b[0m\n\u001b[1;32m----> 3\u001b[1;33m     \u001b[1;32mreturn\u001b[0m \u001b[1;33m[\u001b[0m \u001b[0mvar\u001b[0m\u001b[1;33m**\u001b[0m\u001b[1;36m2\u001b[0m \u001b[1;32mfor\u001b[0m \u001b[0mvar\u001b[0m \u001b[1;32min\u001b[0m \u001b[0margs\u001b[0m  \u001b[1;33m]\u001b[0m\u001b[1;33m\u001b[0m\u001b[1;33m\u001b[0m\u001b[0m\n\u001b[0m\u001b[0;32m      4\u001b[0m \u001b[0mx\u001b[0m \u001b[1;33m=\u001b[0m \u001b[1;33m[\u001b[0m \u001b[0mvar\u001b[0m \u001b[1;32mfor\u001b[0m \u001b[0mvar\u001b[0m \u001b[1;32min\u001b[0m \u001b[0mrange\u001b[0m\u001b[1;33m(\u001b[0m\u001b[1;36m1\u001b[0m\u001b[1;33m,\u001b[0m\u001b[1;36m11\u001b[0m\u001b[1;33m)\u001b[0m\u001b[1;33m]\u001b[0m\u001b[1;33m\u001b[0m\u001b[1;33m\u001b[0m\u001b[0m\n\u001b[0;32m      5\u001b[0m \u001b[0my\u001b[0m \u001b[1;33m=\u001b[0m \u001b[0msqure\u001b[0m\u001b[1;33m(\u001b[0m\u001b[0mx\u001b[0m\u001b[1;33m)\u001b[0m\u001b[1;33m\u001b[0m\u001b[1;33m\u001b[0m\u001b[0m\n",
      "\u001b[1;32m<ipython-input-16-562624120cc9>\u001b[0m in \u001b[0;36m<listcomp>\u001b[1;34m(.0)\u001b[0m\n\u001b[0;32m      1\u001b[0m \u001b[1;32mdef\u001b[0m \u001b[0msqure\u001b[0m\u001b[1;33m(\u001b[0m\u001b[1;33m*\u001b[0m\u001b[0margs\u001b[0m\u001b[1;33m)\u001b[0m\u001b[1;33m:\u001b[0m\u001b[1;33m\u001b[0m\u001b[1;33m\u001b[0m\u001b[0m\n\u001b[0;32m      2\u001b[0m \u001b[1;33m\u001b[0m\u001b[0m\n\u001b[1;32m----> 3\u001b[1;33m     \u001b[1;32mreturn\u001b[0m \u001b[1;33m[\u001b[0m \u001b[0mvar\u001b[0m\u001b[1;33m**\u001b[0m\u001b[1;36m2\u001b[0m \u001b[1;32mfor\u001b[0m \u001b[0mvar\u001b[0m \u001b[1;32min\u001b[0m \u001b[0margs\u001b[0m  \u001b[1;33m]\u001b[0m\u001b[1;33m\u001b[0m\u001b[1;33m\u001b[0m\u001b[0m\n\u001b[0m\u001b[0;32m      4\u001b[0m \u001b[0mx\u001b[0m \u001b[1;33m=\u001b[0m \u001b[1;33m[\u001b[0m \u001b[0mvar\u001b[0m \u001b[1;32mfor\u001b[0m \u001b[0mvar\u001b[0m \u001b[1;32min\u001b[0m \u001b[0mrange\u001b[0m\u001b[1;33m(\u001b[0m\u001b[1;36m1\u001b[0m\u001b[1;33m,\u001b[0m\u001b[1;36m11\u001b[0m\u001b[1;33m)\u001b[0m\u001b[1;33m]\u001b[0m\u001b[1;33m\u001b[0m\u001b[1;33m\u001b[0m\u001b[0m\n\u001b[0;32m      5\u001b[0m \u001b[0my\u001b[0m \u001b[1;33m=\u001b[0m \u001b[0msqure\u001b[0m\u001b[1;33m(\u001b[0m\u001b[0mx\u001b[0m\u001b[1;33m)\u001b[0m\u001b[1;33m\u001b[0m\u001b[1;33m\u001b[0m\u001b[0m\n",
      "\u001b[1;31mTypeError\u001b[0m: unsupported operand type(s) for ** or pow(): 'list' and 'int'"
     ]
    }
   ],
   "source": [
    "def squre(*args):\n",
    "    \n",
    "    return [ var**2 for var in args  ]\n",
    "x = [ var for var in range(1,11)]\n",
    "y = squre(x)\n",
    "print(\"Number --> \",x)\n",
    "print(\"Squre --> \",y)"
   ]
  },
  {
   "cell_type": "code",
   "execution_count": 17,
   "metadata": {},
   "outputs": [
    {
     "name": "stdout",
     "output_type": "stream",
     "text": [
      "Number -->  [1, 2, 3, 4, 5, 6, 7, 8, 9, 10]\n",
      "Squre -->  [1, 4, 9, 16, 25, 36, 49, 64, 81, 100]\n"
     ]
    }
   ],
   "source": [
    "def squre(*args):\n",
    "    \n",
    "    return [ var**2 for var in args  ]\n",
    "x = [ var for var in range(1,11)]\n",
    "y = squre(*x)\n",
    "print(\"Number --> \",x)\n",
    "print(\"Squre --> \",y)"
   ]
  },
  {
   "cell_type": "code",
   "execution_count": 20,
   "metadata": {},
   "outputs": [
    {
     "name": "stdout",
     "output_type": "stream",
     "text": [
      "python\n",
      "p\ty\tt\th\to\tn\n"
     ]
    }
   ],
   "source": [
    "print(\"python\")\n",
    "print(*\"python\",sep='\\t')# print(\"p\",\"y\",\"t\",\"h\",\"o\",\"n\")"
   ]
  },
  {
   "cell_type": "code",
   "execution_count": 24,
   "metadata": {},
   "outputs": [
    {
     "name": "stdout",
     "output_type": "stream",
     "text": [
      "Type of kwargs -->  <class 'dict'>\n",
      "Value of kwargs -->  {'name': 'python', 'version': 3.7, 'release_year': 1994, 'father': 'Guido'}\n"
     ]
    }
   ],
   "source": [
    "def func(**kwargs):\n",
    "    print(\"Type of kwargs --> \",type(kwargs))\n",
    "    print(\"Value of kwargs --> \",kwargs)\n",
    "func(name='python',version=3.7,release_year=1994,father='Guido')"
   ]
  },
  {
   "cell_type": "code",
   "execution_count": 25,
   "metadata": {},
   "outputs": [],
   "source": [
    "def print_dict(**mydict):\n",
    "    for key,value in mydict.items() : \n",
    "        print(f\"{key} = {value}\")"
   ]
  },
  {
   "cell_type": "code",
   "execution_count": 26,
   "metadata": {},
   "outputs": [
    {
     "name": "stdout",
     "output_type": "stream",
     "text": [
      "name = python\n",
      "version = 3.7\n"
     ]
    }
   ],
   "source": [
    "print_dict(name='python',version=3.7)"
   ]
  },
  {
   "cell_type": "code",
   "execution_count": 27,
   "metadata": {},
   "outputs": [],
   "source": [
    "d = { 'name':'python','version':3.7,'release_year':1994}"
   ]
  },
  {
   "cell_type": "code",
   "execution_count": 28,
   "metadata": {},
   "outputs": [
    {
     "name": "stdout",
     "output_type": "stream",
     "text": [
      "name = python\n",
      "version = 3.7\n",
      "release_year = 1994\n"
     ]
    }
   ],
   "source": [
    "print_dict(**d)"
   ]
  },
  {
   "cell_type": "code",
   "execution_count": 29,
   "metadata": {},
   "outputs": [],
   "source": [
    "d1 = { 'one':1,'two':2,'three':3}\n",
    "d2 = { 'four':4,'five':5}"
   ]
  },
  {
   "cell_type": "code",
   "execution_count": 31,
   "metadata": {},
   "outputs": [],
   "source": [
    "d = { **d1,**d2}"
   ]
  },
  {
   "cell_type": "code",
   "execution_count": 32,
   "metadata": {},
   "outputs": [
    {
     "data": {
      "text/plain": [
       "{'one': 1, 'two': 2, 'three': 3, 'four': 4, 'five': 5}"
      ]
     },
     "execution_count": 32,
     "metadata": {},
     "output_type": "execute_result"
    }
   ],
   "source": [
    "d"
   ]
  },
  {
   "cell_type": "code",
   "execution_count": 33,
   "metadata": {},
   "outputs": [],
   "source": [
    "def final(pos,default=0,*args,**kwargs):\n",
    "    print(\"Positional Argument --> \",pos)\n",
    "    print(\"Default Argument --> \",default)\n",
    "    print(\"Here is your var length args \")\n",
    "    for c,element in enumerate(args) : \n",
    "        print(f\"Var Length Argument Number[{c+1}] = {element}\")\n",
    "    print(\"Here is your var length key-value args \")\n",
    "    c = 1\n",
    "    for key,value in kwargs.items():\n",
    "        print(f\"Item Number[{c}] --> {key} = {value}\")\n",
    "        c = c + 1"
   ]
  },
  {
   "cell_type": "code",
   "execution_count": 35,
   "metadata": {},
   "outputs": [
    {
     "name": "stdout",
     "output_type": "stream",
     "text": [
      "Positional Argument -->  1\n",
      "Default Argument -->  0\n",
      "Here is your var length args \n",
      "Here is your var length key-value args \n"
     ]
    }
   ],
   "source": [
    "final(1)"
   ]
  },
  {
   "cell_type": "code",
   "execution_count": 36,
   "metadata": {},
   "outputs": [
    {
     "name": "stdout",
     "output_type": "stream",
     "text": [
      "Positional Argument -->  1\n",
      "Default Argument -->  2\n",
      "Here is your var length args \n",
      "Var Length Argument Number[1] = 3\n",
      "Var Length Argument Number[2] = 4\n",
      "Var Length Argument Number[3] = 5\n",
      "Here is your var length key-value args \n"
     ]
    }
   ],
   "source": [
    "final(1,2,3,4,5)"
   ]
  },
  {
   "cell_type": "code",
   "execution_count": 39,
   "metadata": {},
   "outputs": [
    {
     "name": "stdout",
     "output_type": "stream",
     "text": [
      "Positional Argument -->  print\n",
      "Default Argument -->  works\n",
      "Here is your var length args \n",
      "Var Length Argument Number[1] = like\n",
      "Var Length Argument Number[2] = this\n",
      "Var Length Argument Number[3] = if\n",
      "Var Length Argument Number[4] = you\n",
      "Var Length Argument Number[5] = notice\n",
      "Here is your var length key-value args \n",
      "Item Number[1] --> sep = \" \"\n",
      "Item Number[2] --> end = \\n\n"
     ]
    }
   ],
   "source": [
    "final(\"print\",\"works\",\"like\",\"this\",\"if\",\"you\",\"notice\",sep='\" \"',end='\\\\n')"
   ]
  },
  {
   "cell_type": "code",
   "execution_count": 56,
   "metadata": {},
   "outputs": [],
   "source": [
    "#prime number using recursion\n",
    "def prime(num,check=2):\n",
    "    \"\"\"prime(num)--> will return True if num is prime else return false\"\"\"\n",
    "    if num <= 1 : \n",
    "        return False\n",
    "    if num <= 3 : \n",
    "        return True \n",
    "    if num % check == 0 : \n",
    "        return False\n",
    "    elif check == (num // 2 )+ 1 : \n",
    "        return True\n",
    "    return prime(num,check+1)"
   ]
  },
  {
   "cell_type": "code",
   "execution_count": 57,
   "metadata": {},
   "outputs": [
    {
     "data": {
      "text/plain": [
       "True"
      ]
     },
     "execution_count": 57,
     "metadata": {},
     "output_type": "execute_result"
    }
   ],
   "source": [
    "prime(127)"
   ]
  },
  {
   "cell_type": "code",
   "execution_count": 58,
   "metadata": {},
   "outputs": [
    {
     "data": {
      "text/plain": [
       "False"
      ]
     },
     "execution_count": 58,
     "metadata": {},
     "output_type": "execute_result"
    }
   ],
   "source": [
    "prime(121)"
   ]
  },
  {
   "cell_type": "code",
   "execution_count": 59,
   "metadata": {},
   "outputs": [
    {
     "data": {
      "text/plain": [
       "False"
      ]
     },
     "execution_count": 59,
     "metadata": {},
     "output_type": "execute_result"
    }
   ],
   "source": [
    "prime(15)"
   ]
  },
  {
   "cell_type": "code",
   "execution_count": 60,
   "metadata": {},
   "outputs": [],
   "source": [
    "#advance function in python"
   ]
  },
  {
   "cell_type": "code",
   "execution_count": 61,
   "metadata": {},
   "outputs": [],
   "source": [
    "#Closures \n",
    "def hello():\n",
    "    x = 5\n",
    "    print(x)\n",
    "    x = x + 1\n",
    "    "
   ]
  },
  {
   "cell_type": "code",
   "execution_count": 62,
   "metadata": {},
   "outputs": [
    {
     "name": "stdout",
     "output_type": "stream",
     "text": [
      "5\n"
     ]
    }
   ],
   "source": [
    "hello()"
   ]
  },
  {
   "cell_type": "code",
   "execution_count": 63,
   "metadata": {},
   "outputs": [
    {
     "name": "stdout",
     "output_type": "stream",
     "text": [
      "5\n"
     ]
    }
   ],
   "source": [
    "hello()"
   ]
  },
  {
   "cell_type": "code",
   "execution_count": 64,
   "metadata": {},
   "outputs": [],
   "source": [
    "def hello():\n",
    "    print(\"Hello World\",hello.x)\n",
    "    hello.x += 1"
   ]
  },
  {
   "cell_type": "code",
   "execution_count": 65,
   "metadata": {},
   "outputs": [],
   "source": [
    "hello.x = 1"
   ]
  },
  {
   "cell_type": "code",
   "execution_count": 66,
   "metadata": {},
   "outputs": [
    {
     "name": "stdout",
     "output_type": "stream",
     "text": [
      "Hello World 1\n"
     ]
    }
   ],
   "source": [
    "hello()"
   ]
  },
  {
   "cell_type": "code",
   "execution_count": 67,
   "metadata": {},
   "outputs": [
    {
     "name": "stdout",
     "output_type": "stream",
     "text": [
      "Hello World 2\n"
     ]
    }
   ],
   "source": [
    "hello()"
   ]
  },
  {
   "cell_type": "code",
   "execution_count": 68,
   "metadata": {},
   "outputs": [],
   "source": [
    "def hello(name):\n",
    "    print(\"my name is \",name)"
   ]
  },
  {
   "cell_type": "code",
   "execution_count": 69,
   "metadata": {},
   "outputs": [
    {
     "name": "stdout",
     "output_type": "stream",
     "text": [
      "my name is  sachin\n"
     ]
    }
   ],
   "source": [
    "hello('sachin')"
   ]
  },
  {
   "cell_type": "code",
   "execution_count": 83,
   "metadata": {},
   "outputs": [],
   "source": [
    "#closure\n",
    "def hello(num):\n",
    "    def bye():\n",
    "        nonlocal num\n",
    "        num = num**2\n",
    "    return bye\n"
   ]
  },
  {
   "cell_type": "code",
   "execution_count": 84,
   "metadata": {},
   "outputs": [
    {
     "name": "stdout",
     "output_type": "stream",
     "text": [
      "<function hello.<locals>.bye at 0x000001AE1F3A8D90>\n"
     ]
    }
   ],
   "source": [
    "x = hello(5)\n",
    "print(x)\n",
    "x()"
   ]
  },
  {
   "cell_type": "code",
   "execution_count": 85,
   "metadata": {},
   "outputs": [],
   "source": [
    "x =5\n",
    "def hi():\n",
    "    global x\n",
    "    x = x **2\n",
    "hi()"
   ]
  },
  {
   "cell_type": "code",
   "execution_count": 72,
   "metadata": {},
   "outputs": [],
   "source": [
    "def hello():\n",
    "    print(\"hello world\")\n",
    "    \n",
    "bye  = hello #alias"
   ]
  },
  {
   "cell_type": "code",
   "execution_count": 73,
   "metadata": {},
   "outputs": [
    {
     "name": "stdout",
     "output_type": "stream",
     "text": [
      "hello world\n"
     ]
    }
   ],
   "source": [
    "bye()"
   ]
  },
  {
   "cell_type": "code",
   "execution_count": 74,
   "metadata": {},
   "outputs": [
    {
     "name": "stdout",
     "output_type": "stream",
     "text": [
      "hello world\n"
     ]
    }
   ],
   "source": [
    "hello()"
   ]
  },
  {
   "cell_type": "code",
   "execution_count": 75,
   "metadata": {},
   "outputs": [
    {
     "data": {
      "text/plain": [
       "True"
      ]
     },
     "execution_count": 75,
     "metadata": {},
     "output_type": "execute_result"
    }
   ],
   "source": [
    "id(bye) == id(hello)"
   ]
  },
  {
   "cell_type": "code",
   "execution_count": 86,
   "metadata": {},
   "outputs": [
    {
     "name": "stdout",
     "output_type": "stream",
     "text": [
      "100\n"
     ]
    }
   ],
   "source": [
    "#closure\n",
    "def hello(num):\n",
    "    def bye():\n",
    "        nonlocal num\n",
    "        num = num**2\n",
    "        print(num)\n",
    "    return bye\n",
    "\n",
    "newfunc = hello(10)\n",
    "newfunc()"
   ]
  },
  {
   "cell_type": "code",
   "execution_count": null,
   "metadata": {},
   "outputs": [],
   "source": [
    "#decorator --> implementation of closures\n"
   ]
  },
  {
   "cell_type": "code",
   "execution_count": 89,
   "metadata": {},
   "outputs": [],
   "source": [
    "data = { 1:{'name':'sachin','email':'sachin@grras.com',\n",
    "            'ph_no':'+919782131159','address':'jaipur'},\n",
    "       }\n",
    "def enqury(name,email,ph_no,address):\n",
    "    last_id = list(data.keys())\n",
    "    last_id.sort()\n",
    "    new_id = last_id[-1]+1\n",
    "    data[new_id] = {'name':name,'email':email,'ph_no':ph_no,\n",
    "                   'address':address}\n",
    "enqury(\"kushal\",\"kushal@gmail.com\",\"+91289347734\",\"udaipur\")\n",
    "enqury(\"nidhi\",\"nidhi@grras.com\",\"+9138479374344\",\"kota\")"
   ]
  },
  {
   "cell_type": "code",
   "execution_count": 91,
   "metadata": {},
   "outputs": [
    {
     "name": "stdout",
     "output_type": "stream",
     "text": [
      "{1: {'address': 'jaipur',\n",
      "     'email': 'sachin@grras.com',\n",
      "     'name': 'sachin',\n",
      "     'ph_no': '+919782131159'},\n",
      " 2: {'address': 'udaipur',\n",
      "     'email': 'kushal@gmail.com',\n",
      "     'name': 'kushal',\n",
      "     'ph_no': '+91289347734'},\n",
      " 3: {'address': 'kota',\n",
      "     'email': 'nidhi@grras.com',\n",
      "     'name': 'nidhi',\n",
      "     'ph_no': '+9138479374344'}}\n"
     ]
    }
   ],
   "source": [
    "from pprint import pprint\n",
    "pprint(data)"
   ]
  },
  {
   "cell_type": "code",
   "execution_count": 95,
   "metadata": {},
   "outputs": [],
   "source": [
    "def closure(org_name):\n",
    "    def enqury(name,email,ph_no,address):\n",
    "        print(\"Welcome to \",org_name)\n",
    "        last_id = list(data.keys())\n",
    "        last_id.sort()\n",
    "        new_id = last_id[-1]+1\n",
    "        data[new_id] = {'name':name,'email':email,'ph_no':ph_no,\n",
    "                       'address':address}\n",
    "    return enqury\n",
    "\n",
    "e = closure(\"Grras Solutions Pvt. Ltd, Jaipur\")"
   ]
  },
  {
   "cell_type": "code",
   "execution_count": 96,
   "metadata": {},
   "outputs": [
    {
     "data": {
      "text/plain": [
       "{1: {'name': 'sachin',\n",
       "  'email': 'sachin@grras.com',\n",
       "  'ph_no': '+919782131159',\n",
       "  'address': 'jaipur'},\n",
       " 2: {'name': 'kushal',\n",
       "  'email': 'kushal@gmail.com',\n",
       "  'ph_no': '+91289347734',\n",
       "  'address': 'udaipur'},\n",
       " 3: {'name': 'nidhi',\n",
       "  'email': 'nidhi@grras.com',\n",
       "  'ph_no': '+9138479374344',\n",
       "  'address': 'kota'}}"
      ]
     },
     "execution_count": 96,
     "metadata": {},
     "output_type": "execute_result"
    }
   ],
   "source": [
    "data"
   ]
  },
  {
   "cell_type": "code",
   "execution_count": 97,
   "metadata": {},
   "outputs": [
    {
     "name": "stdout",
     "output_type": "stream",
     "text": [
      "Welcome to  Grras Solutions Pvt. Ltd, Jaipur\n"
     ]
    }
   ],
   "source": [
    "e('Guido','python@gmail.com','+1892334','USA')"
   ]
  },
  {
   "cell_type": "code",
   "execution_count": 98,
   "metadata": {},
   "outputs": [
    {
     "data": {
      "text/plain": [
       "{1: {'name': 'sachin',\n",
       "  'email': 'sachin@grras.com',\n",
       "  'ph_no': '+919782131159',\n",
       "  'address': 'jaipur'},\n",
       " 2: {'name': 'kushal',\n",
       "  'email': 'kushal@gmail.com',\n",
       "  'ph_no': '+91289347734',\n",
       "  'address': 'udaipur'},\n",
       " 3: {'name': 'nidhi',\n",
       "  'email': 'nidhi@grras.com',\n",
       "  'ph_no': '+9138479374344',\n",
       "  'address': 'kota'},\n",
       " 4: {'name': 'Guido',\n",
       "  'email': 'python@gmail.com',\n",
       "  'ph_no': '+1892334',\n",
       "  'address': 'USA'}}"
      ]
     },
     "execution_count": 98,
     "metadata": {},
     "output_type": "execute_result"
    }
   ],
   "source": [
    "data"
   ]
  },
  {
   "cell_type": "code",
   "execution_count": 99,
   "metadata": {},
   "outputs": [],
   "source": [
    "#Decorators\n",
    "\n",
    "def func(old_func):\n",
    "    def new_func(*args):\n",
    "        return True\n",
    "    return new_func"
   ]
  },
  {
   "cell_type": "code",
   "execution_count": 101,
   "metadata": {},
   "outputs": [],
   "source": [
    "def decorator(old):\n",
    "    def worker(x):\n",
    "        print(\"Welcome To decorator\")\n",
    "        old(x)\n",
    "        print(\"Bye Bye from Decorator\")\n",
    "    return worker\n"
   ]
  },
  {
   "cell_type": "code",
   "execution_count": 102,
   "metadata": {},
   "outputs": [
    {
     "name": "stdout",
     "output_type": "stream",
     "text": [
      "Welcome to hello function  sachin\n"
     ]
    }
   ],
   "source": [
    "def hello(name):\n",
    "    print(\"Welcome to hello function \",name)\n",
    "hello('sachin')"
   ]
  },
  {
   "cell_type": "code",
   "execution_count": 103,
   "metadata": {},
   "outputs": [],
   "source": [
    "new_hello = decorator(hello)"
   ]
  },
  {
   "cell_type": "code",
   "execution_count": 104,
   "metadata": {},
   "outputs": [
    {
     "name": "stdout",
     "output_type": "stream",
     "text": [
      "Welcome To decorator\n",
      "Welcome to hello function  sachin\n",
      "Bye Bye from Decorator\n"
     ]
    }
   ],
   "source": [
    "new_hello('sachin')"
   ]
  },
  {
   "cell_type": "code",
   "execution_count": 112,
   "metadata": {},
   "outputs": [],
   "source": [
    "def add(x,y):\n",
    "    return x+y\n",
    "def decorator(old):\n",
    "    def worker(x,y):\n",
    "        print(\"Welcome To decorator\")\n",
    "        print(\"Calling old function\")\n",
    "        print(\"Bye Bye from Decorator\")\n",
    "        return  old(x,y)\n",
    "    return worker\n",
    "\n",
    "new_add  = decorator(add)"
   ]
  },
  {
   "cell_type": "code",
   "execution_count": 113,
   "metadata": {},
   "outputs": [
    {
     "name": "stdout",
     "output_type": "stream",
     "text": [
      "Welcome To decorator\n",
      "Calling old function\n",
      "Bye Bye from Decorator\n"
     ]
    },
    {
     "data": {
      "text/plain": [
       "9"
      ]
     },
     "execution_count": 113,
     "metadata": {},
     "output_type": "execute_result"
    }
   ],
   "source": [
    "new_add(4,5)"
   ]
  },
  {
   "cell_type": "code",
   "execution_count": 126,
   "metadata": {},
   "outputs": [],
   "source": [
    "def extra_decorator(org_name):\n",
    "    def decorator(old):\n",
    "        def worker(*args,**kwargs):\n",
    "            print(\"\\nWelcome to \",org_name)\n",
    "            print(\"#\"*50)\n",
    "            print(\"#\"*50)\n",
    "            print()\n",
    "            old(*args,**kwargs)\n",
    "            print()\n",
    "            print(\"#\"*50)\n",
    "            print(\"#\"*50)\n",
    "        return worker\n",
    "    return decorator\n",
    "@extra_decorator(\"Bharat Mata ki Jai\\n\")\n",
    "@extra_decorator(\"Grras Solutions Pvt. Ltd, Jaipur\")\n",
    "def hello():\n",
    "    print(\"Hello world Welcome to Decorator\")\n",
    "@extra_decorator(\"Grras Solutions Pvt. Ltd, Jaipur\")\n",
    "def add(x,y):\n",
    "    print(f\"x = {x}\\ny={y}\\n{x}+{y}={x+y}\")"
   ]
  },
  {
   "cell_type": "code",
   "execution_count": 127,
   "metadata": {},
   "outputs": [
    {
     "name": "stdout",
     "output_type": "stream",
     "text": [
      "\n",
      "Welcome to  Bharat Mata ki Jai\n",
      "\n",
      "##################################################\n",
      "##################################################\n",
      "\n",
      "\n",
      "Welcome to  Grras Solutions Pvt. Ltd, Jaipur\n",
      "##################################################\n",
      "##################################################\n",
      "\n",
      "Hello world Welcome to Decorator\n",
      "\n",
      "##################################################\n",
      "##################################################\n",
      "\n",
      "##################################################\n",
      "##################################################\n"
     ]
    }
   ],
   "source": [
    "hello()"
   ]
  },
  {
   "cell_type": "code",
   "execution_count": 128,
   "metadata": {},
   "outputs": [
    {
     "name": "stdout",
     "output_type": "stream",
     "text": [
      "\n",
      "Welcome to  Grras Solutions Pvt. Ltd, Jaipur\n",
      "##################################################\n",
      "##################################################\n",
      "\n",
      "x = 5\n",
      "y=10\n",
      "5+10=15\n",
      "\n",
      "##################################################\n",
      "##################################################\n"
     ]
    }
   ],
   "source": [
    "add(5,10)"
   ]
  },
  {
   "cell_type": "code",
   "execution_count": null,
   "metadata": {},
   "outputs": [],
   "source": [
    "#html code edior\n",
    "def decorate(*args):\n",
    "    #your code goes here\n",
    "\n",
    "@decorate('html','body','h1','p')\n",
    "def func(string):\n",
    "    #your code goes here\n",
    "    return whatever\n",
    "\n",
    "s = func(\"Hello World This is Decorator it is awesome.\")\n",
    "print(s)\n",
    "#<html><body><h1><p>Hello World This is Decorator it is awesome.</p></h1></body></html>"
   ]
  }
 ],
 "metadata": {
  "kernelspec": {
   "display_name": "Python 3",
   "language": "python",
   "name": "python3"
  },
  "language_info": {
   "codemirror_mode": {
    "name": "ipython",
    "version": 3
   },
   "file_extension": ".py",
   "mimetype": "text/x-python",
   "name": "python",
   "nbconvert_exporter": "python",
   "pygments_lexer": "ipython3",
   "version": "3.7.1"
  }
 },
 "nbformat": 4,
 "nbformat_minor": 2
}
